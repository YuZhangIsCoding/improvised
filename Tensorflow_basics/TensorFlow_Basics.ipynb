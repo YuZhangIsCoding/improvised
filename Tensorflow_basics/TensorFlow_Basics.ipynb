{
 "cells": [
  {
   "cell_type": "markdown",
   "metadata": {},
   "source": [
    "# Some tensorflow basics"
   ]
  },
  {
   "cell_type": "code",
   "execution_count": 1,
   "metadata": {},
   "outputs": [],
   "source": [
    "import numpy as np\n",
    "import tensorflow as tf\n",
    "from tensorflow.examples.tutorials.mnist import input_data"
   ]
  },
  {
   "cell_type": "markdown",
   "metadata": {},
   "source": [
    "## Tensor"
   ]
  },
  {
   "cell_type": "code",
   "execution_count": 2,
   "metadata": {},
   "outputs": [],
   "source": [
    "t0 = tf.constant(3, dtype=tf.int32)"
   ]
  },
  {
   "cell_type": "code",
   "execution_count": 3,
   "metadata": {},
   "outputs": [
    {
     "data": {
      "text/plain": [
       "<tf.Tensor 'Const:0' shape=() dtype=int32>"
      ]
     },
     "execution_count": 3,
     "metadata": {},
     "output_type": "execute_result"
    }
   ],
   "source": [
    "t0"
   ]
  },
  {
   "cell_type": "code",
   "execution_count": 4,
   "metadata": {},
   "outputs": [],
   "source": [
    "t1 = tf.constant([3, 4.1, 5.2], dtype=tf.float32)"
   ]
  },
  {
   "cell_type": "code",
   "execution_count": 5,
   "metadata": {},
   "outputs": [
    {
     "data": {
      "text/plain": [
       "<tf.Tensor 'Const_1:0' shape=(3,) dtype=float32>"
      ]
     },
     "execution_count": 5,
     "metadata": {},
     "output_type": "execute_result"
    }
   ],
   "source": [
    "t1"
   ]
  },
  {
   "cell_type": "code",
   "execution_count": 6,
   "metadata": {},
   "outputs": [],
   "source": [
    "t2 = tf.constant([['Apple', 'Orange'], ['Patato', 'Tomato']], dtype=tf.string)"
   ]
  },
  {
   "cell_type": "code",
   "execution_count": 7,
   "metadata": {},
   "outputs": [
    {
     "data": {
      "text/plain": [
       "<tf.Tensor 'Const_2:0' shape=(2, 2) dtype=string>"
      ]
     },
     "execution_count": 7,
     "metadata": {},
     "output_type": "execute_result"
    }
   ],
   "source": [
    "t2"
   ]
  },
  {
   "cell_type": "code",
   "execution_count": 8,
   "metadata": {},
   "outputs": [],
   "source": [
    "t3 = tf.constant([[[5],[6],[7]],[[4],[5],[6]]])"
   ]
  },
  {
   "cell_type": "code",
   "execution_count": 9,
   "metadata": {},
   "outputs": [
    {
     "data": {
      "text/plain": [
       "<tf.Tensor 'Const_3:0' shape=(2, 3, 1) dtype=int32>"
      ]
     },
     "execution_count": 9,
     "metadata": {},
     "output_type": "execute_result"
    }
   ],
   "source": [
    "t3"
   ]
  },
  {
   "cell_type": "markdown",
   "metadata": {},
   "source": [
    "## Dataflow Graph\n",
    "A data-flow graph (DFG) is a graph which represents a data dependancies between a number of operations. Each node defines an operation, where inputs and outputs are tensor."
   ]
  },
  {
   "cell_type": "markdown",
   "metadata": {},
   "source": [
    "## Session\n",
    "\n",
    "A session allows to execute graphs or part of graphs. It allocates resources (on one or more machines) for that and holds the actual values of intermediate results and variables."
   ]
  },
  {
   "cell_type": "markdown",
   "metadata": {},
   "source": [
    "## Construct a computation graph"
   ]
  },
  {
   "cell_type": "markdown",
   "metadata": {},
   "source": [
    "### A simple add operation"
   ]
  },
  {
   "cell_type": "code",
   "execution_count": 10,
   "metadata": {},
   "outputs": [
    {
     "data": {
      "text/plain": [
       "<tf.Tensor 'add:0' shape=() dtype=float32>"
      ]
     },
     "execution_count": 10,
     "metadata": {},
     "output_type": "execute_result"
    }
   ],
   "source": [
    "node1 = tf.constant(3.2)\n",
    "node2 = tf.constant(4.8)\n",
    "adder = node1+node2\n",
    "adder"
   ]
  },
  {
   "cell_type": "code",
   "execution_count": 11,
   "metadata": {},
   "outputs": [
    {
     "data": {
      "text/plain": [
       "8.0"
      ]
     },
     "execution_count": 11,
     "metadata": {},
     "output_type": "execute_result"
    }
   ],
   "source": [
    "sess = tf.Session()\n",
    "sess.run(adder)"
   ]
  },
  {
   "cell_type": "markdown",
   "metadata": {},
   "source": [
    "### Use placeholder to customize input"
   ]
  },
  {
   "cell_type": "code",
   "execution_count": 12,
   "metadata": {},
   "outputs": [
    {
     "data": {
      "text/plain": [
       "<tf.Tensor 'add:0' shape=() dtype=float32>"
      ]
     },
     "execution_count": 12,
     "metadata": {},
     "output_type": "execute_result"
    }
   ],
   "source": [
    "a = tf.placeholder(tf.float32)\n",
    "b = tf.placeholder(tf.float32)\n",
    "adder_node = a+b\n",
    "adder"
   ]
  },
  {
   "cell_type": "code",
   "execution_count": 13,
   "metadata": {},
   "outputs": [
    {
     "data": {
      "text/plain": [
       "7.5"
      ]
     },
     "execution_count": 13,
     "metadata": {},
     "output_type": "execute_result"
    }
   ],
   "source": [
    "sess = tf.Session()\n",
    "sess.run(adder_node, {a: 3, b: 4.5})"
   ]
  },
  {
   "cell_type": "code",
   "execution_count": 14,
   "metadata": {},
   "outputs": [
    {
     "data": {
      "text/plain": [
       "array([ 5.,  7.], dtype=float32)"
      ]
     },
     "execution_count": 14,
     "metadata": {},
     "output_type": "execute_result"
    }
   ],
   "source": [
    "sess.run(adder_node, {a: [2, 3], b:[3, 4]})"
   ]
  },
  {
   "cell_type": "markdown",
   "metadata": {},
   "source": [
    "### Add additional computations"
   ]
  },
  {
   "cell_type": "code",
   "execution_count": 15,
   "metadata": {},
   "outputs": [
    {
     "data": {
      "text/plain": [
       "21.0"
      ]
     },
     "execution_count": 15,
     "metadata": {},
     "output_type": "execute_result"
    }
   ],
   "source": [
    "add_and_triple = adder_node*3\n",
    "sess.run(add_and_triple, {a: 3, b: 4})"
   ]
  },
  {
   "cell_type": "markdown",
   "metadata": {},
   "source": [
    "## Linear Model With Manual Fix"
   ]
  },
  {
   "cell_type": "code",
   "execution_count": 16,
   "metadata": {},
   "outputs": [],
   "source": [
    "W = tf.Variable([.1], dtype=tf.float32)\n",
    "b = tf.Variable([.1], dtype=tf.float32)\n",
    "x = tf.placeholder(tf.float32)\n",
    "linear_model = W*x+b"
   ]
  },
  {
   "cell_type": "code",
   "execution_count": 17,
   "metadata": {},
   "outputs": [],
   "source": [
    "y = tf.placeholder(tf.float32)\n",
    "loss = tf.reduce_sum(tf.square(linear_model-y))"
   ]
  },
  {
   "cell_type": "code",
   "execution_count": 18,
   "metadata": {},
   "outputs": [],
   "source": [
    "sess = tf.Session()"
   ]
  },
  {
   "cell_type": "markdown",
   "metadata": {},
   "source": [
    "tf.Variable() needs initialization"
   ]
  },
  {
   "cell_type": "code",
   "execution_count": 19,
   "metadata": {},
   "outputs": [],
   "source": [
    "init = tf.global_variables_initializer()\n",
    "sess.run(init)"
   ]
  },
  {
   "cell_type": "code",
   "execution_count": 20,
   "metadata": {},
   "outputs": [
    {
     "data": {
      "text/plain": [
       "array([ 0.1], dtype=float32)"
      ]
     },
     "execution_count": 20,
     "metadata": {},
     "output_type": "execute_result"
    }
   ],
   "source": [
    "sess.run(W)"
   ]
  },
  {
   "cell_type": "code",
   "execution_count": 21,
   "metadata": {},
   "outputs": [
    {
     "data": {
      "text/plain": [
       "array([ 0.1], dtype=float32)"
      ]
     },
     "execution_count": 21,
     "metadata": {},
     "output_type": "execute_result"
    }
   ],
   "source": [
    "sess.run(b)"
   ]
  },
  {
   "cell_type": "markdown",
   "metadata": {},
   "source": [
    "Fitted value"
   ]
  },
  {
   "cell_type": "code",
   "execution_count": 22,
   "metadata": {},
   "outputs": [
    {
     "data": {
      "text/plain": [
       "array([ 0.2       ,  0.30000001,  0.40000001,  0.70000005,  0.90000004], dtype=float32)"
      ]
     },
     "execution_count": 22,
     "metadata": {},
     "output_type": "execute_result"
    }
   ],
   "source": [
    "sess.run(linear_model, {x: [1, 2, 3, 6, 8]})"
   ]
  },
  {
   "cell_type": "markdown",
   "metadata": {},
   "source": [
    "Loss function"
   ]
  },
  {
   "cell_type": "code",
   "execution_count": 23,
   "metadata": {},
   "outputs": [
    {
     "data": {
      "text/plain": [
       "1195.85"
      ]
     },
     "execution_count": 23,
     "metadata": {},
     "output_type": "execute_result"
    }
   ],
   "source": [
    "sess.run(loss, {x: [1, 2, 3, 6, 8], y: [4.8, 8.5, 10.4, 21.0, 25.3]})"
   ]
  },
  {
   "cell_type": "markdown",
   "metadata": {},
   "source": [
    "Reassign values manually"
   ]
  },
  {
   "cell_type": "code",
   "execution_count": 24,
   "metadata": {},
   "outputs": [
    {
     "data": {
      "text/plain": [
       "[array([ 2.], dtype=float32), array([ 1.], dtype=float32)]"
      ]
     },
     "execution_count": 24,
     "metadata": {},
     "output_type": "execute_result"
    }
   ],
   "source": [
    "fixW = tf.assign(W, [2.])\n",
    "fixb = tf.assign(b, [1.])\n",
    "sess.run([fixW, fixb])"
   ]
  },
  {
   "cell_type": "code",
   "execution_count": 25,
   "metadata": {},
   "outputs": [
    {
     "data": {
      "text/plain": [
       "159.93997"
      ]
     },
     "execution_count": 25,
     "metadata": {},
     "output_type": "execute_result"
    }
   ],
   "source": [
    "sess.run(loss, {x: [1, 2, 3, 6, 8], y: [4.8, 8.5, 10.4, 21.0, 25.3]})"
   ]
  },
  {
   "cell_type": "markdown",
   "metadata": {},
   "source": [
    "## Train models"
   ]
  },
  {
   "cell_type": "code",
   "execution_count": 26,
   "metadata": {},
   "outputs": [],
   "source": [
    "x_train = [1, 2, 3, 6, 8]\n",
    "y_train = [4.8, 8.5, 10.4, 21.0, 25.3]"
   ]
  },
  {
   "cell_type": "code",
   "execution_count": 27,
   "metadata": {},
   "outputs": [],
   "source": [
    "optimizer = tf.train.GradientDescentOptimizer(learning_rate = 0.001)\n",
    "train = optimizer.minimize(loss)"
   ]
  },
  {
   "cell_type": "markdown",
   "metadata": {},
   "source": [
    "Train 10000 times"
   ]
  },
  {
   "cell_type": "code",
   "execution_count": 28,
   "metadata": {},
   "outputs": [],
   "source": [
    "for i in range(10000):\n",
    "    sess.run(train, {x: x_train, y: y_train})"
   ]
  },
  {
   "cell_type": "code",
   "execution_count": 29,
   "metadata": {},
   "outputs": [
    {
     "name": "stdout",
     "output_type": "stream",
     "text": [
      "W: [ 2.98236108] b: [ 2.07054377] loss: 2.12941\n"
     ]
    }
   ],
   "source": [
    "print('W: %s b: %s loss: %s' % (sess.run(W), sess.run(b), \n",
    "                                sess.run(loss, {x: x_train , y: y_train})))"
   ]
  },
  {
   "cell_type": "markdown",
   "metadata": {},
   "source": [
    "## Linear Regressor model"
   ]
  },
  {
   "cell_type": "code",
   "execution_count": 30,
   "metadata": {},
   "outputs": [
    {
     "name": "stdout",
     "output_type": "stream",
     "text": [
      "INFO:tensorflow:Using default config.\n",
      "WARNING:tensorflow:Using temporary folder as model directory: /var/folders/zd/3xysxg0s077_yl8jw9xyzrv40000gq/T/tmp75jqr7f3\n",
      "INFO:tensorflow:Using config: {'_model_dir': '/var/folders/zd/3xysxg0s077_yl8jw9xyzrv40000gq/T/tmp75jqr7f3', '_tf_random_seed': None, '_save_summary_steps': 100, '_save_checkpoints_steps': None, '_save_checkpoints_secs': 600, '_session_config': None, '_keep_checkpoint_max': 5, '_keep_checkpoint_every_n_hours': 10000, '_log_step_count_steps': 100, '_service': None, '_cluster_spec': <tensorflow.python.training.server_lib.ClusterSpec object at 0x1c29f65978>, '_task_type': 'worker', '_task_id': 0, '_master': '', '_is_chief': True, '_num_ps_replicas': 0, '_num_worker_replicas': 1}\n"
     ]
    }
   ],
   "source": [
    "feature_columns = [tf.feature_column.numeric_column('x', shape = [1])]\n",
    "estimator = tf.estimator.LinearRegressor(feature_columns=feature_columns)"
   ]
  },
  {
   "cell_type": "code",
   "execution_count": 31,
   "metadata": {},
   "outputs": [],
   "source": [
    "x_train = np.array([1., 2., 3., 6., 8.])\n",
    "y_train = np.array([4.8, 8.5, 10.4, 21.0, 25.3])\n",
    "x_test = np.array([2., 5., 7., 9.])\n",
    "y_test = np.array([7.6, 17.2, 23.6, 28.8])"
   ]
  },
  {
   "cell_type": "code",
   "execution_count": 32,
   "metadata": {},
   "outputs": [],
   "source": [
    "train_input_fn = tf.estimator.inputs.numpy_input_fn(\n",
    "    {'x': x_train}, y_train, batch_size=2, num_epochs=None, shuffle=True)\n",
    "val_input_fn = tf.estimator.inputs.numpy_input_fn(\n",
    "    {'x': x_train}, y_train, batch_size=2, num_epochs=1000, shuffle=False)\n",
    "test_input_fn = tf.estimator.inputs.numpy_input_fn(\n",
    "    {\"x\": x_test}, y_test, batch_size=2, num_epochs=1000, shuffle=False)"
   ]
  },
  {
   "cell_type": "markdown",
   "metadata": {},
   "source": [
    "Train 1000 times"
   ]
  },
  {
   "cell_type": "code",
   "execution_count": 33,
   "metadata": {},
   "outputs": [
    {
     "name": "stdout",
     "output_type": "stream",
     "text": [
      "INFO:tensorflow:Create CheckpointSaverHook.\n",
      "INFO:tensorflow:Saving checkpoints for 1 into /var/folders/zd/3xysxg0s077_yl8jw9xyzrv40000gq/T/tmp75jqr7f3/model.ckpt.\n",
      "INFO:tensorflow:loss = 663.13, step = 1\n",
      "INFO:tensorflow:global_step/sec: 857.45\n",
      "INFO:tensorflow:loss = 18.1281, step = 101 (0.119 sec)\n",
      "INFO:tensorflow:global_step/sec: 1081.86\n",
      "INFO:tensorflow:loss = 1.07167, step = 201 (0.093 sec)\n",
      "INFO:tensorflow:global_step/sec: 1067.86\n",
      "INFO:tensorflow:loss = 0.757966, step = 301 (0.094 sec)\n",
      "INFO:tensorflow:global_step/sec: 1056.4\n",
      "INFO:tensorflow:loss = 1.5059, step = 401 (0.095 sec)\n",
      "INFO:tensorflow:global_step/sec: 1063.8\n",
      "INFO:tensorflow:loss = 1.37246, step = 501 (0.094 sec)\n",
      "INFO:tensorflow:global_step/sec: 1092.69\n",
      "INFO:tensorflow:loss = 0.667293, step = 601 (0.091 sec)\n",
      "INFO:tensorflow:global_step/sec: 1074.73\n",
      "INFO:tensorflow:loss = 2.35976, step = 701 (0.094 sec)\n",
      "INFO:tensorflow:global_step/sec: 1056.66\n",
      "INFO:tensorflow:loss = 1.13394, step = 801 (0.094 sec)\n",
      "INFO:tensorflow:global_step/sec: 1050.97\n",
      "INFO:tensorflow:loss = 1.59591, step = 901 (0.095 sec)\n",
      "INFO:tensorflow:Saving checkpoints for 1000 into /var/folders/zd/3xysxg0s077_yl8jw9xyzrv40000gq/T/tmp75jqr7f3/model.ckpt.\n",
      "INFO:tensorflow:Loss for final step: 0.198896.\n"
     ]
    },
    {
     "data": {
      "text/plain": [
       "<tensorflow.python.estimator.canned.linear.LinearRegressor at 0x1c29f65b00>"
      ]
     },
     "execution_count": 33,
     "metadata": {},
     "output_type": "execute_result"
    }
   ],
   "source": [
    "estimator.train(input_fn=train_input_fn, steps=1000)"
   ]
  },
  {
   "cell_type": "code",
   "execution_count": 34,
   "metadata": {},
   "outputs": [
    {
     "name": "stdout",
     "output_type": "stream",
     "text": [
      "INFO:tensorflow:Starting evaluation at 2018-11-26-17:05:51\n",
      "INFO:tensorflow:Restoring parameters from /var/folders/zd/3xysxg0s077_yl8jw9xyzrv40000gq/T/tmp75jqr7f3/model.ckpt-1000\n",
      "INFO:tensorflow:Finished evaluation at 2018-11-26-17:05:53\n",
      "INFO:tensorflow:Saving dict for global step 1000: average_loss = 0.516148, global_step = 1000, loss = 1.0323\n"
     ]
    },
    {
     "data": {
      "text/plain": [
       "{'average_loss': 0.51614815, 'global_step': 1000, 'loss': 1.0322963}"
      ]
     },
     "execution_count": 34,
     "metadata": {},
     "output_type": "execute_result"
    }
   ],
   "source": [
    "train_metrics = estimator.evaluate(input_fn=val_input_fn)\n",
    "train_metrics"
   ]
  },
  {
   "cell_type": "code",
   "execution_count": 35,
   "metadata": {},
   "outputs": [
    {
     "name": "stdout",
     "output_type": "stream",
     "text": [
      "INFO:tensorflow:Starting evaluation at 2018-11-26-17:05:53\n",
      "INFO:tensorflow:Restoring parameters from /var/folders/zd/3xysxg0s077_yl8jw9xyzrv40000gq/T/tmp75jqr7f3/model.ckpt-1000\n",
      "INFO:tensorflow:Finished evaluation at 2018-11-26-17:05:55\n",
      "INFO:tensorflow:Saving dict for global step 1000: average_loss = 0.369772, global_step = 1000, loss = 0.739543\n"
     ]
    },
    {
     "data": {
      "text/plain": [
       "{'average_loss': 0.36977169, 'global_step': 1000, 'loss': 0.73954338}"
      ]
     },
     "execution_count": 35,
     "metadata": {},
     "output_type": "execute_result"
    }
   ],
   "source": [
    "test_metrics = estimator.evaluate(input_fn=test_input_fn)\n",
    "test_metrics"
   ]
  },
  {
   "cell_type": "markdown",
   "metadata": {},
   "source": [
    "## Customized Estimator"
   ]
  },
  {
   "cell_type": "code",
   "execution_count": 36,
   "metadata": {},
   "outputs": [],
   "source": [
    "def model_fn(features, labels, mode):\n",
    "    W = tf.get_variable('W', [1], dtype=tf.float64)\n",
    "    b = tf.get_variable('b', [1], dtype=tf.float64)\n",
    "    y = W*features['x']+b\n",
    "    \n",
    "    loss = tf.reduce_sum(tf.square(y-labels))\n",
    "    \n",
    "    global_step = tf.train.get_global_step()\n",
    "    optimizer = tf.train.GradientDescentOptimizer(0.01)\n",
    "    train = tf.group(optimizer.minimize(loss), tf.assign_add(global_step, 1))\n",
    "    \n",
    "    return tf.estimator.EstimatorSpec(mode=mode, predictions=y, loss=loss, train_op=train)"
   ]
  },
  {
   "cell_type": "code",
   "execution_count": 37,
   "metadata": {},
   "outputs": [
    {
     "name": "stdout",
     "output_type": "stream",
     "text": [
      "INFO:tensorflow:Using default config.\n",
      "WARNING:tensorflow:Using temporary folder as model directory: /var/folders/zd/3xysxg0s077_yl8jw9xyzrv40000gq/T/tmp3355wqz2\n",
      "INFO:tensorflow:Using config: {'_model_dir': '/var/folders/zd/3xysxg0s077_yl8jw9xyzrv40000gq/T/tmp3355wqz2', '_tf_random_seed': None, '_save_summary_steps': 100, '_save_checkpoints_steps': None, '_save_checkpoints_secs': 600, '_session_config': None, '_keep_checkpoint_max': 5, '_keep_checkpoint_every_n_hours': 10000, '_log_step_count_steps': 100, '_service': None, '_cluster_spec': <tensorflow.python.training.server_lib.ClusterSpec object at 0x1c2b0302e8>, '_task_type': 'worker', '_task_id': 0, '_master': '', '_is_chief': True, '_num_ps_replicas': 0, '_num_worker_replicas': 1}\n"
     ]
    }
   ],
   "source": [
    "estimator = tf.estimator.Estimator(model_fn=model_fn)"
   ]
  },
  {
   "cell_type": "code",
   "execution_count": 38,
   "metadata": {},
   "outputs": [
    {
     "name": "stdout",
     "output_type": "stream",
     "text": [
      "INFO:tensorflow:Create CheckpointSaverHook.\n",
      "INFO:tensorflow:Saving checkpoints for 1 into /var/folders/zd/3xysxg0s077_yl8jw9xyzrv40000gq/T/tmp3355wqz2/model.ckpt.\n",
      "INFO:tensorflow:loss = 90.7219982269, step = 1\n",
      "INFO:tensorflow:global_step/sec: 923.463\n",
      "INFO:tensorflow:loss = 0.0861456345626, step = 101 (0.111 sec)\n",
      "INFO:tensorflow:global_step/sec: 1079.13\n",
      "INFO:tensorflow:loss = 3.1452762197, step = 201 (0.092 sec)\n",
      "INFO:tensorflow:global_step/sec: 1087.07\n",
      "INFO:tensorflow:loss = 0.126975145636, step = 301 (0.092 sec)\n",
      "INFO:tensorflow:global_step/sec: 726.464\n",
      "INFO:tensorflow:loss = 0.183317377507, step = 401 (0.137 sec)\n",
      "INFO:tensorflow:global_step/sec: 1090.56\n",
      "INFO:tensorflow:loss = 0.0426468169276, step = 501 (0.092 sec)\n",
      "INFO:tensorflow:global_step/sec: 1084.01\n",
      "INFO:tensorflow:loss = 7.12410727118, step = 601 (0.092 sec)\n",
      "INFO:tensorflow:global_step/sec: 1080.44\n",
      "INFO:tensorflow:loss = 0.176827105669, step = 701 (0.093 sec)\n",
      "INFO:tensorflow:global_step/sec: 1083.29\n",
      "INFO:tensorflow:loss = 2.38969751846, step = 801 (0.093 sec)\n",
      "INFO:tensorflow:global_step/sec: 1085.32\n",
      "INFO:tensorflow:loss = 0.425708891719, step = 901 (0.092 sec)\n",
      "INFO:tensorflow:Saving checkpoints for 1000 into /var/folders/zd/3xysxg0s077_yl8jw9xyzrv40000gq/T/tmp3355wqz2/model.ckpt.\n",
      "INFO:tensorflow:Loss for final step: 0.252625542367.\n"
     ]
    },
    {
     "data": {
      "text/plain": [
       "<tensorflow.python.estimator.estimator.Estimator at 0x1c2b0301d0>"
      ]
     },
     "execution_count": 38,
     "metadata": {},
     "output_type": "execute_result"
    }
   ],
   "source": [
    "estimator.train(input_fn=train_input_fn, steps = 1000)"
   ]
  },
  {
   "cell_type": "code",
   "execution_count": 39,
   "metadata": {},
   "outputs": [
    {
     "name": "stdout",
     "output_type": "stream",
     "text": [
      "INFO:tensorflow:Starting evaluation at 2018-11-26-17:05:56\n",
      "INFO:tensorflow:Restoring parameters from /var/folders/zd/3xysxg0s077_yl8jw9xyzrv40000gq/T/tmp3355wqz2/model.ckpt-1000\n",
      "INFO:tensorflow:Finished evaluation at 2018-11-26-17:05:58\n",
      "INFO:tensorflow:Saving dict for global step 1000: global_step = 1000, loss = 0.924095\n"
     ]
    }
   ],
   "source": [
    "train_metrics = estimator.evaluate(input_fn=val_input_fn)"
   ]
  },
  {
   "cell_type": "code",
   "execution_count": 40,
   "metadata": {},
   "outputs": [
    {
     "data": {
      "text/plain": [
       "{'global_step': 1000, 'loss': 0.92409474}"
      ]
     },
     "execution_count": 40,
     "metadata": {},
     "output_type": "execute_result"
    }
   ],
   "source": [
    "train_metrics"
   ]
  },
  {
   "cell_type": "code",
   "execution_count": 41,
   "metadata": {},
   "outputs": [
    {
     "name": "stdout",
     "output_type": "stream",
     "text": [
      "INFO:tensorflow:Starting evaluation at 2018-11-26-17:05:58\n",
      "INFO:tensorflow:Restoring parameters from /var/folders/zd/3xysxg0s077_yl8jw9xyzrv40000gq/T/tmp3355wqz2/model.ckpt-1000\n",
      "INFO:tensorflow:Finished evaluation at 2018-11-26-17:06:00\n",
      "INFO:tensorflow:Saving dict for global step 1000: global_step = 1000, loss = 0.307932\n"
     ]
    },
    {
     "data": {
      "text/plain": [
       "{'global_step': 1000, 'loss': 0.30793205}"
      ]
     },
     "execution_count": 41,
     "metadata": {},
     "output_type": "execute_result"
    }
   ],
   "source": [
    "test_metrics = estimator.evaluate(input_fn=test_input_fn)\n",
    "test_metrics"
   ]
  },
  {
   "cell_type": "markdown",
   "metadata": {},
   "source": [
    "## TensorBoard"
   ]
  },
  {
   "cell_type": "code",
   "execution_count": 42,
   "metadata": {},
   "outputs": [
    {
     "data": {
      "text/plain": [
       "<tf.Tensor 'add_2:0' shape=<unknown> dtype=float32>"
      ]
     },
     "execution_count": 42,
     "metadata": {},
     "output_type": "execute_result"
    }
   ],
   "source": [
    "linear_model"
   ]
  },
  {
   "cell_type": "code",
   "execution_count": 43,
   "metadata": {},
   "outputs": [],
   "source": [
    "with tf.name_scope('loss-model'):\n",
    "    loss = tf.reduce_sum(tf.square(linear_model - y))\n",
    "    tf.summary.scalar('loss', loss)"
   ]
  },
  {
   "cell_type": "code",
   "execution_count": 44,
   "metadata": {},
   "outputs": [],
   "source": [
    "optimizer = tf.train.GradientDescentOptimizer(0.001)\n",
    "train = optimizer.minimize(loss)"
   ]
  },
  {
   "cell_type": "code",
   "execution_count": 45,
   "metadata": {},
   "outputs": [],
   "source": [
    "sess = tf.Session()\n",
    "init = tf.global_variables_initializer()\n",
    "sess.run(init)"
   ]
  },
  {
   "cell_type": "code",
   "execution_count": 46,
   "metadata": {},
   "outputs": [],
   "source": [
    "merged = tf.summary.merge_all()\n",
    "writer = tf.summary.FileWriter('./TensorBoard_files/LinearModel', sess.graph)"
   ]
  },
  {
   "cell_type": "code",
   "execution_count": 47,
   "metadata": {},
   "outputs": [],
   "source": [
    "for i in range(10000):\n",
    "    summary, _ = sess.run([merged, train], {x: x_train, y: y_train})\n",
    "    writer.add_summary(summary, i)"
   ]
  },
  {
   "cell_type": "code",
   "execution_count": 48,
   "metadata": {},
   "outputs": [],
   "source": [
    "curr_W, curr_b, curr_loss = sess.run([W, b, loss], {x: x_train, y: y_train})"
   ]
  },
  {
   "cell_type": "code",
   "execution_count": 49,
   "metadata": {},
   "outputs": [
    {
     "name": "stdout",
     "output_type": "stream",
     "text": [
      "After train W: [ 2.98236108] b [ 2.07054377] loss: 2.12941\n"
     ]
    }
   ],
   "source": [
    "print(\"After train W: %s b %s loss: %s\" % (curr_W, curr_b, curr_loss))"
   ]
  },
  {
   "cell_type": "markdown",
   "metadata": {},
   "source": [
    "TensorBoard can be visualized by `tensorboard --logdir .`"
   ]
  },
  {
   "cell_type": "markdown",
   "metadata": {},
   "source": [
    "## A neural Network example"
   ]
  },
  {
   "cell_type": "code",
   "execution_count": 50,
   "metadata": {},
   "outputs": [
    {
     "name": "stdout",
     "output_type": "stream",
     "text": [
      "Extracting MNIST_data/train-images-idx3-ubyte.gz\n",
      "Extracting MNIST_data/train-labels-idx1-ubyte.gz\n",
      "Extracting MNIST_data/t10k-images-idx3-ubyte.gz\n",
      "Extracting MNIST_data/t10k-labels-idx1-ubyte.gz\n"
     ]
    }
   ],
   "source": [
    "mnist = input_data.read_data_sets('MNIST_data/', one_hot=True)"
   ]
  },
  {
   "cell_type": "markdown",
   "metadata": {},
   "source": [
    "Hyperparameters"
   ]
  },
  {
   "cell_type": "code",
   "execution_count": 51,
   "metadata": {},
   "outputs": [],
   "source": [
    "learning_rate = 0.5\n",
    "epochs = 10\n",
    "batch_size = 100"
   ]
  },
  {
   "cell_type": "markdown",
   "metadata": {},
   "source": [
    "Input image has 28*28 = 784 pixels\n",
    "\n",
    "Output is one-hot of 10 digits"
   ]
  },
  {
   "cell_type": "code",
   "execution_count": 52,
   "metadata": {},
   "outputs": [],
   "source": [
    "x = tf.placeholder(tf.float32, [None, 784], name='x-input')\n",
    "y = tf.placeholder(tf.float32, [None, 10], name='y-input')"
   ]
  },
  {
   "cell_type": "code",
   "execution_count": 53,
   "metadata": {},
   "outputs": [],
   "source": [
    "# hidden layer\n",
    "W1 = tf.Variable(tf.random_normal([784, 300], stddev=0.03), name='W1')\n",
    "b1 = tf.Variable(tf.random_normal([300]), name='b1')\n",
    "# output layer\n",
    "W2 = tf.Variable(tf.random_normal([300, 10], stddev=0.03), name='W2')\n",
    "b2 = tf.Variable(tf.random_normal([10]), name='b2')"
   ]
  },
  {
   "cell_type": "markdown",
   "metadata": {},
   "source": [
    "Hidden network"
   ]
  },
  {
   "cell_type": "code",
   "execution_count": 54,
   "metadata": {},
   "outputs": [],
   "source": [
    "hidden_out = tf.add(tf.matmul(x, W1), b1)\n",
    "hidden_out = tf.nn.relu(hidden_out)"
   ]
  },
  {
   "cell_type": "markdown",
   "metadata": {},
   "source": [
    "Output"
   ]
  },
  {
   "cell_type": "code",
   "execution_count": 55,
   "metadata": {},
   "outputs": [],
   "source": [
    "y_ = tf.nn.softmax(tf.add(tf.matmul(hidden_out, W2), b2))"
   ]
  },
  {
   "cell_type": "markdown",
   "metadata": {},
   "source": [
    "Define loss function"
   ]
  },
  {
   "cell_type": "code",
   "execution_count": 56,
   "metadata": {},
   "outputs": [],
   "source": [
    "y_clipped = tf.clip_by_value(y_, 1e-10, 1-1e-7)\n",
    "cross_entropy = -tf.reduce_mean(\n",
    "    tf.reduce_sum(y*tf.log(y_clipped)+(1-y_clipped)*tf.log(1-y_clipped),\n",
    "                 axis = 1))"
   ]
  },
  {
   "cell_type": "markdown",
   "metadata": {},
   "source": [
    "Optimizer"
   ]
  },
  {
   "cell_type": "code",
   "execution_count": 57,
   "metadata": {},
   "outputs": [],
   "source": [
    "optimizer = tf.train.GradientDescentOptimizer(\n",
    "    learning_rate = learning_rate).minimize(cross_entropy)"
   ]
  },
  {
   "cell_type": "markdown",
   "metadata": {},
   "source": [
    "Initialize"
   ]
  },
  {
   "cell_type": "code",
   "execution_count": 58,
   "metadata": {},
   "outputs": [],
   "source": [
    "init = tf.global_variables_initializer()\n",
    "correct_prediction = tf.equal(tf.argmax(y, 1), tf.argmax(y_, 1))\n",
    "accuracy = tf.reduce_mean(tf.cast(correct_prediction, tf.float32))"
   ]
  },
  {
   "cell_type": "markdown",
   "metadata": {},
   "source": [
    "Train model"
   ]
  },
  {
   "cell_type": "code",
   "execution_count": 59,
   "metadata": {
    "scrolled": false
   },
   "outputs": [
    {
     "name": "stdout",
     "output_type": "stream",
     "text": [
      "Epoch: 1 cost = 0.527\n",
      "Epoch: 2 cost = 0.201\n",
      "Epoch: 3 cost = 0.139\n",
      "Epoch: 4 cost = 0.108\n",
      "Epoch: 5 cost = 0.085\n",
      "Epoch: 6 cost = 0.069\n",
      "Epoch: 7 cost = 0.057\n",
      "Epoch: 8 cost = 0.046\n",
      "Epoch: 9 cost = 0.037\n",
      "Epoch: 10 cost = 0.030\n",
      "Accuracy after all: 0.9797\n"
     ]
    }
   ],
   "source": [
    "with tf.Session() as sess:\n",
    "    sess.run(init)\n",
    "    total_batch = int(len(mnist.train.labels)/batch_size)\n",
    "    for epoch in range(epochs):\n",
    "        avg_cost = 0\n",
    "        for i in range(total_batch):\n",
    "            batch_x, batch_y = mnist.train.next_batch(batch_size=batch_size)\n",
    "            _, c = sess.run([optimizer, cross_entropy], {x: batch_x, y: batch_y})\n",
    "            avg_cost += c/total_batch\n",
    "        print('Epoch:', (epoch+1), 'cost = %.3f' %avg_cost)\n",
    "    print('Accuracy after all:', sess.run(accuracy, {x: mnist.test.images, y: mnist.test.labels}))"
   ]
  }
 ],
 "metadata": {
  "kernelspec": {
   "display_name": "Python 3",
   "language": "python",
   "name": "python3"
  },
  "language_info": {
   "codemirror_mode": {
    "name": "ipython",
    "version": 3
   },
   "file_extension": ".py",
   "mimetype": "text/x-python",
   "name": "python",
   "nbconvert_exporter": "python",
   "pygments_lexer": "ipython3",
   "version": "3.6.4"
  }
 },
 "nbformat": 4,
 "nbformat_minor": 2
}
