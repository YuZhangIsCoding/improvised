{
 "cells": [
  {
   "cell_type": "markdown",
   "metadata": {},
   "source": [
    "# Neural Network With TensorBoard"
   ]
  },
  {
   "cell_type": "code",
   "execution_count": 1,
   "metadata": {},
   "outputs": [],
   "source": [
    "import numpy as np\n",
    "import tensorflow as tf\n",
    "from tensorflow.examples.tutorials.mnist import input_data"
   ]
  },
  {
   "cell_type": "code",
   "execution_count": 2,
   "metadata": {},
   "outputs": [],
   "source": [
    "# hyperparameters\n",
    "max_steps = 1000\n",
    "learning_rate = 0.001\n",
    "dropout = 0.9\n",
    "batch_size = 100\n",
    "\n",
    "data_dir = './TensorBoard_files/NN'\n",
    "log_dir = './TensorBoard_files/NN'"
   ]
  },
  {
   "cell_type": "code",
   "execution_count": 3,
   "metadata": {},
   "outputs": [
    {
     "name": "stdout",
     "output_type": "stream",
     "text": [
      "Extracting MNIST_data/train-images-idx3-ubyte.gz\n",
      "Extracting MNIST_data/train-labels-idx1-ubyte.gz\n",
      "Extracting MNIST_data/t10k-images-idx3-ubyte.gz\n",
      "Extracting MNIST_data/t10k-labels-idx1-ubyte.gz\n"
     ]
    }
   ],
   "source": [
    "mnist = input_data.read_data_sets('MNIST_data/', one_hot=True)"
   ]
  },
  {
   "cell_type": "code",
   "execution_count": 4,
   "metadata": {},
   "outputs": [],
   "source": [
    "sess = tf.InteractiveSession()"
   ]
  },
  {
   "cell_type": "code",
   "execution_count": 5,
   "metadata": {},
   "outputs": [],
   "source": [
    "with tf.name_scope('input'):\n",
    "    x = tf.placeholder(tf.float32, [None, 784], name='x-input')\n",
    "    y = tf.placeholder(tf.float32, [None, 10], name='y-input')"
   ]
  },
  {
   "cell_type": "markdown",
   "metadata": {},
   "source": [
    "Reshape matrix to show the image in tensorboard"
   ]
  },
  {
   "cell_type": "code",
   "execution_count": 6,
   "metadata": {},
   "outputs": [],
   "source": [
    "with tf.name_scope('input_reshape'):\n",
    "    image_shaped_input = tf.reshape(x, [-1, 28, 28, 1])\n",
    "    tf.summary.image('input', image_shaped_input, max_outputs=10)"
   ]
  },
  {
   "cell_type": "markdown",
   "metadata": {},
   "source": [
    "Initialize weights and bias with a function"
   ]
  },
  {
   "cell_type": "code",
   "execution_count": 7,
   "metadata": {},
   "outputs": [],
   "source": [
    "def weight_variable(shape):\n",
    "    '''Create a weight variable with appropriate initialization'''\n",
    "    return tf.Variable(tf.random_normal(shape, stddev=0.03))\n",
    "\n",
    "def bias_variable(shape):\n",
    "    return tf.Variable(tf.random_normal(shape))"
   ]
  },
  {
   "cell_type": "markdown",
   "metadata": {},
   "source": [
    "Write a function to record the change of parameters in each iteration"
   ]
  },
  {
   "cell_type": "code",
   "execution_count": 8,
   "metadata": {},
   "outputs": [],
   "source": [
    "def variable_summaries(var, name=None):\n",
    "    '''Add summaries to TensorBoard'''\n",
    "    if name:\n",
    "        tf.summary.scalar(name, var)\n",
    "    with tf.name_scope('summaries'):\n",
    "        mean = tf.reduce_mean(var)\n",
    "        tf.summary.scalar('mean', mean)\n",
    "        \n",
    "        with tf.name_scope('stddev'):\n",
    "            stddev = tf.sqrt(tf.reduce_mean(tf.sqrt(var-mean)))\n",
    "        tf.summary.scalar('stddev', stddev)\n",
    "        tf.summary.scalar('max', tf.reduce_max(var))\n",
    "        tf.summary.scalar('min', tf.reduce_min(var))\n",
    "        tf.summary.histogram('histogram', var)"
   ]
  },
  {
   "cell_type": "markdown",
   "metadata": {},
   "source": [
    "Create neural networks"
   ]
  },
  {
   "cell_type": "code",
   "execution_count": 9,
   "metadata": {},
   "outputs": [],
   "source": [
    "def nn_layer(input_tensor, input_dim, output_dim, layer_name, act=tf.nn.relu):\n",
    "    '''Reusable code for making a simple neural net layer.\n",
    "    It does a matrix multiply, bia add, and then uses relu to nonlinearize.\n",
    "    It will also append summaries to tensorboard.\n",
    "    '''\n",
    "    with tf.name_scope(layer_name):\n",
    "        with tf.name_scope('weights'):\n",
    "            weights = weight_variable([input_dim, output_dim])\n",
    "            variable_summaries(weights)\n",
    "            #variable_summaries(weights, '%s.weights' %layer_name)\n",
    "        with tf.name_scope('biases'):\n",
    "            biases = bias_variable([output_dim])\n",
    "            variable_summaries(biases)\n",
    "        with tf.name_scope('linear_compute'):\n",
    "            preactivate = tf.add(tf.matmul(input_tensor, weights), biases)\n",
    "            tf.summary.histogram('linear', preactivate)\n",
    "        activations = act(preactivate, name='activation')\n",
    "        tf.summary.histogram('activations', activations)\n",
    "        \n",
    "        return activations"
   ]
  },
  {
   "cell_type": "code",
   "execution_count": 10,
   "metadata": {},
   "outputs": [],
   "source": [
    "hidden1 = nn_layer(x, 784, 500, 'layer1')"
   ]
  },
  {
   "cell_type": "markdown",
   "metadata": {},
   "source": [
    "Create a dropout layer, randomly shut down some neurons"
   ]
  },
  {
   "cell_type": "code",
   "execution_count": 11,
   "metadata": {},
   "outputs": [],
   "source": [
    "with tf.name_scope('dropout'):\n",
    "    keep_prob = tf.placeholder(tf.float32)\n",
    "    tf.summary.scalar('dropout_keep_probability', keep_prob)\n",
    "    dropped = tf.nn.dropout(hidden1, keep_prob)"
   ]
  },
  {
   "cell_type": "code",
   "execution_count": 12,
   "metadata": {},
   "outputs": [],
   "source": [
    "yhat = nn_layer(dropped, 500, 10, 'layer2', act=tf.identity)"
   ]
  },
  {
   "cell_type": "markdown",
   "metadata": {},
   "source": [
    "Define loss function"
   ]
  },
  {
   "cell_type": "code",
   "execution_count": 13,
   "metadata": {},
   "outputs": [
    {
     "data": {
      "text/plain": [
       "<tf.Tensor 'loss_1:0' shape=() dtype=string>"
      ]
     },
     "execution_count": 13,
     "metadata": {},
     "output_type": "execute_result"
    }
   ],
   "source": [
    "with tf.name_scope('loss'):\n",
    "    diff = tf.nn.softmax_cross_entropy_with_logits_v2(labels=y, logits=yhat)\n",
    "    with tf.name_scope('total'):\n",
    "        cross_entropy = tf.reduce_mean(diff)\n",
    "\n",
    "tf.summary.scalar('loss', cross_entropy)"
   ]
  },
  {
   "cell_type": "markdown",
   "metadata": {},
   "source": [
    "Train"
   ]
  },
  {
   "cell_type": "code",
   "execution_count": 14,
   "metadata": {},
   "outputs": [],
   "source": [
    "with tf.name_scope('train'):\n",
    "    train_step = tf.train.AdamOptimizer(learning_rate).minimize(cross_entropy)\n",
    "\n",
    "with tf.name_scope('accuracy'):\n",
    "    with tf.name_scope('correct_prediction'):\n",
    "        correct_prediction = tf.equal(tf.argmax(yhat, 1), tf.argmax(y, 1))\n",
    "    with tf.name_scope('accuracy'):\n",
    "        accuracy = tf.reduce_mean(tf.cast(correct_prediction, tf.float32))\n",
    "tf.summary.scalar('accuracy', accuracy)\n",
    "\n",
    "merged = tf.summary.merge_all()\n",
    "train_writer = tf.summary.FileWriter(log_dir+'/train', sess.graph)\n",
    "test_writer = tf.summary.FileWriter(log_dir+'/test')\n",
    "tf.global_variables_initializer().run()"
   ]
  },
  {
   "cell_type": "markdown",
   "metadata": {},
   "source": [
    "Prepare data"
   ]
  },
  {
   "cell_type": "code",
   "execution_count": 15,
   "metadata": {},
   "outputs": [],
   "source": [
    "def feed_dict(train):\n",
    "    if train:\n",
    "        xs, ys = mnist.train.next_batch(batch_size)\n",
    "        k = dropout\n",
    "    else:\n",
    "        xs, ys = mnist.test.images, mnist.test.labels\n",
    "        k = 1.0\n",
    "    return {x: xs, y: ys, keep_prob: k}"
   ]
  },
  {
   "cell_type": "code",
   "execution_count": 16,
   "metadata": {
    "scrolled": false
   },
   "outputs": [
    {
     "name": "stdout",
     "output_type": "stream",
     "text": [
      "Accuracy at step 0: 0.098000\n",
      "Accuracy at step 10: 0.569200\n",
      "Accuracy at step 20: 0.779900\n",
      "Accuracy at step 30: 0.811700\n",
      "Accuracy at step 40: 0.837900\n",
      "Accuracy at step 50: 0.869000\n",
      "Accuracy at step 60: 0.869500\n",
      "Accuracy at step 70: 0.888300\n",
      "Accuracy at step 80: 0.890000\n",
      "Accuracy at step 90: 0.896500\n",
      "Adding run metadata for 99\n",
      "Accuracy at step 100: 0.891600\n",
      "Accuracy at step 110: 0.898600\n",
      "Accuracy at step 120: 0.900800\n",
      "Accuracy at step 130: 0.902500\n",
      "Accuracy at step 140: 0.907900\n",
      "Accuracy at step 150: 0.907600\n",
      "Accuracy at step 160: 0.909400\n",
      "Accuracy at step 170: 0.911400\n",
      "Accuracy at step 180: 0.915900\n",
      "Accuracy at step 190: 0.914700\n",
      "Adding run metadata for 199\n",
      "Accuracy at step 200: 0.912900\n",
      "Accuracy at step 210: 0.918800\n",
      "Accuracy at step 220: 0.918800\n",
      "Accuracy at step 230: 0.916700\n",
      "Accuracy at step 240: 0.921800\n",
      "Accuracy at step 250: 0.922300\n",
      "Accuracy at step 260: 0.921200\n",
      "Accuracy at step 270: 0.923300\n",
      "Accuracy at step 280: 0.921200\n",
      "Accuracy at step 290: 0.923600\n",
      "Adding run metadata for 299\n",
      "Accuracy at step 300: 0.926700\n",
      "Accuracy at step 310: 0.924400\n",
      "Accuracy at step 320: 0.920600\n",
      "Accuracy at step 330: 0.930100\n",
      "Accuracy at step 340: 0.933100\n",
      "Accuracy at step 350: 0.933300\n",
      "Accuracy at step 360: 0.935100\n",
      "Accuracy at step 370: 0.935000\n",
      "Accuracy at step 380: 0.933600\n",
      "Accuracy at step 390: 0.934400\n",
      "Adding run metadata for 399\n",
      "Accuracy at step 400: 0.937700\n",
      "Accuracy at step 410: 0.937900\n",
      "Accuracy at step 420: 0.937300\n",
      "Accuracy at step 430: 0.935600\n",
      "Accuracy at step 440: 0.940200\n",
      "Accuracy at step 450: 0.941100\n",
      "Accuracy at step 460: 0.941400\n",
      "Accuracy at step 470: 0.943000\n",
      "Accuracy at step 480: 0.942900\n",
      "Accuracy at step 490: 0.940400\n",
      "Adding run metadata for 499\n",
      "Accuracy at step 500: 0.945300\n",
      "Accuracy at step 510: 0.943600\n",
      "Accuracy at step 520: 0.944000\n",
      "Accuracy at step 530: 0.943900\n",
      "Accuracy at step 540: 0.945300\n",
      "Accuracy at step 550: 0.947300\n",
      "Accuracy at step 560: 0.947200\n",
      "Accuracy at step 570: 0.948400\n",
      "Accuracy at step 580: 0.946400\n",
      "Accuracy at step 590: 0.951600\n",
      "Adding run metadata for 599\n",
      "Accuracy at step 600: 0.945100\n",
      "Accuracy at step 610: 0.949500\n",
      "Accuracy at step 620: 0.948800\n",
      "Accuracy at step 630: 0.951000\n",
      "Accuracy at step 640: 0.950400\n",
      "Accuracy at step 650: 0.953500\n",
      "Accuracy at step 660: 0.953800\n",
      "Accuracy at step 670: 0.952500\n",
      "Accuracy at step 680: 0.953200\n",
      "Accuracy at step 690: 0.947500\n",
      "Adding run metadata for 699\n",
      "Accuracy at step 700: 0.953800\n",
      "Accuracy at step 710: 0.952100\n",
      "Accuracy at step 720: 0.953500\n",
      "Accuracy at step 730: 0.956000\n",
      "Accuracy at step 740: 0.949800\n",
      "Accuracy at step 750: 0.956500\n",
      "Accuracy at step 760: 0.955500\n",
      "Accuracy at step 770: 0.955100\n",
      "Accuracy at step 780: 0.954600\n",
      "Accuracy at step 790: 0.956800\n",
      "Adding run metadata for 799\n",
      "Accuracy at step 800: 0.956600\n",
      "Accuracy at step 810: 0.958100\n",
      "Accuracy at step 820: 0.955500\n",
      "Accuracy at step 830: 0.957600\n",
      "Accuracy at step 840: 0.957000\n",
      "Accuracy at step 850: 0.956000\n",
      "Accuracy at step 860: 0.958300\n",
      "Accuracy at step 870: 0.956900\n",
      "Accuracy at step 880: 0.960200\n",
      "Accuracy at step 890: 0.961100\n",
      "Adding run metadata for 899\n",
      "Accuracy at step 900: 0.959500\n",
      "Accuracy at step 910: 0.955600\n",
      "Accuracy at step 920: 0.959600\n",
      "Accuracy at step 930: 0.960100\n",
      "Accuracy at step 940: 0.958700\n",
      "Accuracy at step 950: 0.959500\n",
      "Accuracy at step 960: 0.959700\n",
      "Accuracy at step 970: 0.958700\n",
      "Accuracy at step 980: 0.959700\n",
      "Accuracy at step 990: 0.962100\n",
      "Adding run metadata for 999\n"
     ]
    }
   ],
   "source": [
    "for i in range(max_steps):\n",
    "    if i%10 == 0:\n",
    "        summary, acc = sess.run([merged, accuracy], feed_dict(False))\n",
    "        test_writer.add_summary(summary, i)\n",
    "        print('Accuracy at step %d: %f' %(i, acc))\n",
    "    else:\n",
    "        if i%100 == 99:\n",
    "            run_options = tf.RunOptions(trace_level=tf.RunOptions.FULL_TRACE)\n",
    "            run_metadata = tf.RunMetadata()\n",
    "            summary, _ = sess.run([merged, train_step], feed_dict(True),\n",
    "                                  options=run_options,\n",
    "                               run_metadata=run_metadata)\n",
    "            train_writer.add_run_metadata(run_metadata, 'step%03d' %i)\n",
    "            train_writer.add_summary(summary, i)\n",
    "            print('Adding run metadata for', i)\n",
    "        else:\n",
    "            summary, _ = sess.run([merged, train_step], feed_dict(True))\n",
    "            train_writer.add_summary(summary, i)\n",
    "train_writer.close()\n",
    "test_writer.close()"
   ]
  }
 ],
 "metadata": {
  "kernelspec": {
   "display_name": "Python 3",
   "language": "python",
   "name": "python3"
  },
  "language_info": {
   "codemirror_mode": {
    "name": "ipython",
    "version": 3
   },
   "file_extension": ".py",
   "mimetype": "text/x-python",
   "name": "python",
   "nbconvert_exporter": "python",
   "pygments_lexer": "ipython3",
   "version": "3.6.4"
  }
 },
 "nbformat": 4,
 "nbformat_minor": 2
}
