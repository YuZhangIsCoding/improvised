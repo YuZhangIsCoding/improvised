{
 "cells": [
  {
   "cell_type": "code",
   "execution_count": 1,
   "metadata": {},
   "outputs": [],
   "source": [
    "import matplotlib.pyplot as plt\n",
    "import numpy as np\n",
    "\n",
    "from sklearn.model_selection import train_test_split\n",
    "from sklearn.decomposition import PCA\n",
    "from sklearn.pipeline import make_pipeline\n",
    "from sklearn.preprocessing import FunctionTransformer"
   ]
  },
  {
   "cell_type": "code",
   "execution_count": 2,
   "metadata": {},
   "outputs": [],
   "source": [
    "def _generate_vector(shift=0.5, noise=15):\n",
    "    return np.arange(1000) + (np.random.rand(1000) - shift) * noise\n",
    "\n",
    "def generate_dataset():\n",
    "    \"\"\"\n",
    "    This dataset is two lines with a slope ~ 1, where one has\n",
    "    a y offset of ~100\n",
    "    \"\"\"\n",
    "    return np.vstack((\n",
    "        np.vstack((\n",
    "            _generate_vector(),\n",
    "            _generate_vector() + 100,\n",
    "        )).T,\n",
    "        np.vstack((\n",
    "            _generate_vector(),\n",
    "            _generate_vector(),\n",
    "        )).T,\n",
    "    )), np.hstack((np.zeros(1000), np.ones(1000)))"
   ]
  },
  {
   "cell_type": "code",
   "execution_count": 3,
   "metadata": {},
   "outputs": [],
   "source": [
    "def all_but_first_column(X):\n",
    "    return X[:, 1:]\n",
    "\n",
    "\n",
    "def drop_first_component(X, y):\n",
    "    \"\"\"\n",
    "    Create a pipeline with PCA and the column selector and use it to\n",
    "    transform the dataset.\n",
    "    \"\"\"\n",
    "    pipeline = make_pipeline(\n",
    "        PCA(), FunctionTransformer(all_but_first_column),\n",
    "    )\n",
    "    X_train, X_test, y_train, y_test = train_test_split(X, y)\n",
    "    pipeline.fit(X_train, y_train)\n",
    "    return pipeline.transform(X_test), y_test"
   ]
  },
  {
   "cell_type": "code",
   "execution_count": 4,
   "metadata": {},
   "outputs": [],
   "source": [
    "X, y = generate_dataset()"
   ]
  },
  {
   "cell_type": "code",
   "execution_count": 5,
   "metadata": {},
   "outputs": [
    {
     "data": {
      "text/plain": [
       "array([[ -2.31502209e+00,   1.05389812e+02],\n",
       "       [  8.14856719e+00,   1.07815402e+02],\n",
       "       [  5.48151822e-01,   1.00787574e+02],\n",
       "       ..., \n",
       "       [  9.97885602e+02,   9.97701037e+02],\n",
       "       [  9.93752711e+02,   9.94688936e+02],\n",
       "       [  1.00410433e+03,   1.00393475e+03]])"
      ]
     },
     "execution_count": 5,
     "metadata": {},
     "output_type": "execute_result"
    }
   ],
   "source": [
    "X"
   ]
  },
  {
   "cell_type": "code",
   "execution_count": 18,
   "metadata": {},
   "outputs": [
    {
     "data": {
      "text/plain": [
       "array([  105.38981243,   107.8154022 ,   100.78757364, ...,   997.701037  ,\n",
       "         994.68893607,  1003.93474888])"
      ]
     },
     "execution_count": 18,
     "metadata": {},
     "output_type": "execute_result"
    }
   ],
   "source": [
    "X[:, 1]"
   ]
  },
  {
   "cell_type": "code",
   "execution_count": 6,
   "metadata": {},
   "outputs": [],
   "source": [
    "X_transformed, y_transformed = drop_first_component(*generate_dataset())"
   ]
  },
  {
   "cell_type": "code",
   "execution_count": 27,
   "metadata": {},
   "outputs": [
    {
     "data": {
      "text/plain": [
       "PCA(copy=True, iterated_power='auto', n_components=2, random_state=None,\n",
       "  svd_solver='auto', tol=0.0, whiten=False)"
      ]
     },
     "execution_count": 27,
     "metadata": {},
     "output_type": "execute_result"
    }
   ],
   "source": [
    "pca = PCA(n_components=2)\n",
    "pca.fit(X)"
   ]
  },
  {
   "cell_type": "code",
   "execution_count": 28,
   "metadata": {},
   "outputs": [
    {
     "data": {
      "text/plain": [
       "array([[-668.46571629,  -45.62896753],\n",
       "       [-659.39435099,  -39.87740098],\n",
       "       [-669.73477269,  -40.35944549],\n",
       "       ..., \n",
       "       [ 669.13579384,   40.64275944],\n",
       "       [ 664.08957494,   39.8125673 ],\n",
       "       [ 677.94083042,   40.69785909]])"
      ]
     },
     "execution_count": 28,
     "metadata": {},
     "output_type": "execute_result"
    }
   ],
   "source": [
    "pca.transform(X)"
   ]
  },
  {
   "cell_type": "code",
   "execution_count": null,
   "metadata": {},
   "outputs": [],
   "source": []
  }
 ],
 "metadata": {
  "kernelspec": {
   "display_name": "Python 3",
   "language": "python",
   "name": "python3"
  },
  "language_info": {
   "codemirror_mode": {
    "name": "ipython",
    "version": 3
   },
   "file_extension": ".py",
   "mimetype": "text/x-python",
   "name": "python",
   "nbconvert_exporter": "python",
   "pygments_lexer": "ipython3",
   "version": "3.6.4"
  }
 },
 "nbformat": 4,
 "nbformat_minor": 2
}
