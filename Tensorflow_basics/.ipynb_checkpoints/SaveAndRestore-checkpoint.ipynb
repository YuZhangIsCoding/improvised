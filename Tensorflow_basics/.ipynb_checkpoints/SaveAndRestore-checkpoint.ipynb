{
 "cells": [
  {
   "cell_type": "markdown",
   "metadata": {},
   "source": [
    "# Save and restore in Tensorflow"
   ]
  },
  {
   "cell_type": "code",
   "execution_count": 1,
   "metadata": {},
   "outputs": [],
   "source": [
    "import numpy as np\n",
    "import tensorflow as tf\n",
    "\n",
    "import matplotlib.pyplot as plt\n",
    "%matplotlib inline"
   ]
  },
  {
   "cell_type": "markdown",
   "metadata": {},
   "source": [
    "## Creat a simply linear model"
   ]
  },
  {
   "cell_type": "code",
   "execution_count": 2,
   "metadata": {},
   "outputs": [
    {
     "data": {
      "image/png": "[encoded data removed]",
      "text/plain": [
       "<Figure size 432x288 with 1 Axes>"
      ]
     },
     "metadata": {},
     "output_type": "display_data"
    }
   ],
   "source": [
    "X_train = np.random.random((10, 10))+np.arange(10).reshape((-1, 1))\n",
    "y_label = np.random.random(10)+np.arange(10)\n",
    "y_label = y_label.reshape((-1, 1))\n",
    "\n",
    "for i in range(X_train.shape[1]):\n",
    "    plt.plot(X_train[:, i], y_label)"
   ]
  },
  {
   "cell_type": "markdown",
   "metadata": {},
   "source": [
    "## Build a linear model"
   ]
  },
  {
   "cell_type": "code",
   "execution_count": 3,
   "metadata": {},
   "outputs": [],
   "source": [
    "num_feat = X_train.shape[1]\n",
    "x = tf.placeholder(tf.float32, shape=[None, num_feat], name='x')\n",
    "y = tf.placeholder(tf.float32, shape=[None, 1], name='y')\n",
    "\n",
    "W = tf.Variable(tf.truncated_normal(shape=[num_feat, 1]), name='W')\n",
    "b = tf.Variable([0.1], dtype=tf.float32, name='b')\n",
    "\n",
    "yhat = tf.add(tf.matmul(x, W), b, name='predict')\n",
    "loss = tf.reduce_sum(tf.square(yhat-y), name='loss')\n",
    "\n",
    "train = tf.train.AdamOptimizer().minimize(loss, name='train')\n",
    "\n",
    "saver = tf.train.Saver()"
   ]
  },
  {
   "cell_type": "markdown",
   "metadata": {},
   "source": [
    "## Train the linear model"
   ]
  },
  {
   "cell_type": "code",
   "execution_count": 4,
   "metadata": {
    "scrolled": false
   },
   "outputs": [
    {
     "name": "stdout",
     "output_type": "stream",
     "text": [
      "Iteration 0, loss: 15848.71\n",
      "Iteration 100, loss: 11674.26\n",
      "Iteration 200, loss: 8387.26\n",
      "Iteration 300, loss: 5865.40\n",
      "Iteration 400, loss: 3982.12\n",
      "Iteration 500, loss: 2618.00\n",
      "Iteration 600, loss: 1663.15\n",
      "Iteration 700, loss: 1019.71\n",
      "Iteration 800, loss: 603.81\n",
      "Iteration 900, loss: 346.88\n",
      "Iteration 1000, loss: 195.68\n",
      "Iteration 1100, loss: 111.16\n",
      "Iteration 1200, loss: 66.41\n",
      "Iteration 1300, loss: 44.00\n",
      "Iteration 1400, loss: 33.42\n",
      "Iteration 1500, loss: 28.70\n",
      "Iteration 1600, loss: 26.71\n",
      "Iteration 1700, loss: 25.90\n",
      "Iteration 1800, loss: 25.58\n",
      "Iteration 1900, loss: 25.43\n",
      "Iteration 2000, loss: 25.34\n",
      "Iteration 2100, loss: 25.27\n",
      "Iteration 2200, loss: 25.20\n",
      "Iteration 2300, loss: 25.13\n",
      "Iteration 2400, loss: 25.06\n",
      "Iteration 2500, loss: 24.98\n",
      "Iteration 2600, loss: 24.91\n",
      "Iteration 2700, loss: 24.82\n",
      "Iteration 2800, loss: 24.74\n",
      "Iteration 2900, loss: 24.64\n",
      "Iteration 3000, loss: 24.55\n",
      "Iteration 3100, loss: 24.45\n",
      "Iteration 3200, loss: 24.35\n",
      "Iteration 3300, loss: 24.24\n",
      "Iteration 3400, loss: 24.12\n",
      "Iteration 3500, loss: 24.01\n",
      "Iteration 3600, loss: 23.88\n",
      "Iteration 3700, loss: 23.76\n",
      "Iteration 3800, loss: 23.62\n",
      "Iteration 3900, loss: 23.49\n",
      "Iteration 4000, loss: 23.34\n",
      "Iteration 4100, loss: 23.19\n",
      "Iteration 4200, loss: 23.04\n",
      "Iteration 4300, loss: 22.88\n",
      "Iteration 4400, loss: 22.72\n",
      "Iteration 4500, loss: 22.55\n",
      "Iteration 4600, loss: 22.37\n",
      "Iteration 4700, loss: 22.19\n",
      "Iteration 4800, loss: 22.00\n",
      "Iteration 4900, loss: 21.81\n",
      "Iteration 5000, loss: 21.61\n",
      "Iteration 5100, loss: 21.40\n",
      "Iteration 5200, loss: 21.19\n",
      "Iteration 5300, loss: 20.98\n",
      "Iteration 5400, loss: 20.76\n",
      "Iteration 5500, loss: 20.53\n",
      "Iteration 5600, loss: 20.30\n",
      "Iteration 5700, loss: 20.06\n",
      "Iteration 5800, loss: 19.82\n",
      "Iteration 5900, loss: 19.57\n",
      "Iteration 6000, loss: 19.32\n",
      "Iteration 6100, loss: 19.07\n",
      "Iteration 6200, loss: 18.81\n",
      "Iteration 6300, loss: 18.55\n",
      "Iteration 6400, loss: 18.28\n",
      "Iteration 6500, loss: 18.01\n",
      "Iteration 6600, loss: 17.74\n",
      "Iteration 6700, loss: 17.46\n",
      "Iteration 6800, loss: 17.18\n",
      "Iteration 6900, loss: 16.90\n",
      "Iteration 7000, loss: 16.62\n",
      "Iteration 7100, loss: 16.33\n",
      "Iteration 7200, loss: 16.05\n",
      "Iteration 7300, loss: 15.76\n",
      "Iteration 7400, loss: 15.47\n",
      "Iteration 7500, loss: 15.18\n",
      "Iteration 7600, loss: 14.89\n",
      "Iteration 7700, loss: 14.60\n",
      "Iteration 7800, loss: 14.31\n",
      "Iteration 7900, loss: 14.02\n",
      "Iteration 8000, loss: 13.72\n",
      "Iteration 8100, loss: 13.43\n",
      "Iteration 8200, loss: 13.13\n",
      "Iteration 8300, loss: 12.84\n",
      "Iteration 8400, loss: 12.54\n",
      "Iteration 8500, loss: 12.25\n",
      "Iteration 8600, loss: 11.95\n",
      "Iteration 8700, loss: 11.65\n",
      "Iteration 8800, loss: 11.35\n",
      "Iteration 8900, loss: 11.05\n",
      "Iteration 9000, loss: 10.75\n",
      "Iteration 9100, loss: 10.45\n",
      "Iteration 9200, loss: 10.15\n",
      "Iteration 9300, loss: 9.84\n",
      "Iteration 9400, loss: 9.54\n",
      "Iteration 9500, loss: 9.23\n",
      "Iteration 9600, loss: 8.92\n",
      "Iteration 9700, loss: 8.61\n",
      "Iteration 9800, loss: 8.30\n",
      "Iteration 9900, loss: 8.00\n",
      "--- Training Ends ---\n",
      "Final loss: 7.69\n",
      "Model saved in path: saved_models/LinearRegression/LinearRegression.ckpt\n"
     ]
    }
   ],
   "source": [
    "sess = tf.Session()\n",
    "sess.run(tf.global_variables_initializer())\n",
    "for i in range(10000):\n",
    "    sess.run(train, {x: X_train, y: y_label})\n",
    "    if i%100 == 0:\n",
    "        temp = sess.run(loss, {x: X_train, y: y_label})\n",
    "        print('Iteration %d, loss: %.2f' %(i, temp))\n",
    "print('--- Training Ends ---')\n",
    "temp = sess.run(loss, {x: X_train, y: y_label})\n",
    "print('Final loss: %.2f' %temp)\n",
    "save_path = saver.save(sess, 'saved_models/LinearRegression/LinearRegression.ckpt')\n",
    "print('Model saved in path: %s' %save_path)\n",
    "sess.close()"
   ]
  },
  {
   "cell_type": "markdown",
   "metadata": {},
   "source": [
    "## Restore previously saved model"
   ]
  },
  {
   "cell_type": "code",
   "execution_count": 19,
   "metadata": {},
   "outputs": [
    {
     "name": "stdout",
     "output_type": "stream",
     "text": [
      "INFO:tensorflow:Restoring parameters from saved_models/LinearRegression/LinearRegression.ckpt\n"
     ]
    }
   ],
   "source": [
    "sess = tf.Session()\n",
    "\n",
    "loader = tf.train.import_meta_graph('saved_models/LinearRegression/LinearRegression.ckpt.meta')\n",
    "loader.restore(sess, tf.train.latest_checkpoint('saved_models/LinearRegression'))"
   ]
  },
  {
   "cell_type": "markdown",
   "metadata": {},
   "source": [
    "If want to access to the saved variables, just call `sess.run('variable_name: 0')`"
   ]
  },
  {
   "cell_type": "code",
   "execution_count": 20,
   "metadata": {},
   "outputs": [
    {
     "name": "stdout",
     "output_type": "stream",
     "text": [
      "[[-0.45544952]\n",
      " [-1.03392053]\n",
      " [ 1.41906869]\n",
      " [-0.20415094]\n",
      " [-0.29903606]\n",
      " [-0.43353459]\n",
      " [ 0.45670986]\n",
      " [-0.13525775]\n",
      " [ 0.27653494]\n",
      " [ 1.49487817]]\n"
     ]
    }
   ],
   "source": [
    "print(sess.run('W:0'))"
   ]
  },
  {
   "cell_type": "code",
   "execution_count": 21,
   "metadata": {},
   "outputs": [
    {
     "name": "stdout",
     "output_type": "stream",
     "text": [
      "[-0.74019831]\n"
     ]
    }
   ],
   "source": [
    "print(sess.run('b: 0'))"
   ]
  },
  {
   "cell_type": "code",
   "execution_count": 22,
   "metadata": {},
   "outputs": [
    {
     "data": {
      "text/plain": [
       "array([[  1.18585491],\n",
       "       [  1.68395114],\n",
       "       [  1.1427443 ],\n",
       "       [  4.46878958],\n",
       "       [  4.34422874],\n",
       "       [  4.53103971],\n",
       "       [  5.67510843],\n",
       "       [  8.52834129],\n",
       "       [  7.10968494],\n",
       "       [ 10.27659893]], dtype=float32)"
      ]
     },
     "execution_count": 22,
     "metadata": {},
     "output_type": "execute_result"
    }
   ],
   "source": [
    "sess.run('predict:0', {x: X_train})"
   ]
  },
  {
   "cell_type": "markdown",
   "metadata": {},
   "source": [
    "Or we can just get the graph and create new tensors"
   ]
  },
  {
   "cell_type": "code",
   "execution_count": 23,
   "metadata": {},
   "outputs": [],
   "source": [
    "graph = tf.get_default_graph()\n",
    "x_restored = graph.get_tensor_by_name('x: 0')\n",
    "y_restored = graph.get_tensor_by_name('y: 0')\n",
    "yhat_restored = graph.get_tensor_by_name('predict: 0')\n",
    "loss_restored = graph.get_tensor_by_name('loss: 0')\n",
    "train_restored = graph.get_operation_by_name('train')"
   ]
  },
  {
   "cell_type": "markdown",
   "metadata": {},
   "source": [
    "We can continue training by running the restored operation"
   ]
  },
  {
   "cell_type": "code",
   "execution_count": 24,
   "metadata": {},
   "outputs": [
    {
     "name": "stdout",
     "output_type": "stream",
     "text": [
      "Iteration 0, loss: 7.69\n",
      "Iteration 100, loss: 7.38\n",
      "Iteration 200, loss: 7.07\n",
      "Iteration 300, loss: 6.76\n",
      "Iteration 400, loss: 6.46\n",
      "Iteration 500, loss: 6.16\n",
      "Iteration 600, loss: 5.86\n",
      "Iteration 700, loss: 5.57\n",
      "Iteration 800, loss: 5.28\n",
      "Iteration 900, loss: 5.00\n"
     ]
    }
   ],
   "source": [
    "for i in range(1000):\n",
    "    sess.run(train_restored, {x_restored: X_train, y_restored: y_label})\n",
    "    if i%100 == 0:\n",
    "        temp = sess.run(loss_restored, {x_restored: X_train, y_restored: y_label})\n",
    "        print('Iteration %d, loss: %.2f' %(i, temp))"
   ]
  },
  {
   "cell_type": "markdown",
   "metadata": {},
   "source": [
    "We can actually modify some tensors (useful to modify NNs) or operations. Here I change the optimizer to GradientDescent"
   ]
  },
  {
   "cell_type": "code",
   "execution_count": 25,
   "metadata": {},
   "outputs": [],
   "source": [
    "train_gd = tf.train.GradientDescentOptimizer(0.0001).minimize(loss_restored)"
   ]
  },
  {
   "cell_type": "code",
   "execution_count": 26,
   "metadata": {},
   "outputs": [
    {
     "name": "stdout",
     "output_type": "stream",
     "text": [
      "Iteration 0, loss: 4.72\n",
      "Iteration 100, loss: 3.88\n",
      "Iteration 200, loss: 3.23\n",
      "Iteration 300, loss: 2.74\n",
      "Iteration 400, loss: 2.35\n",
      "Iteration 500, loss: 2.06\n",
      "Iteration 600, loss: 1.82\n",
      "Iteration 700, loss: 1.64\n",
      "Iteration 800, loss: 1.49\n",
      "Iteration 900, loss: 1.37\n"
     ]
    }
   ],
   "source": [
    "for i in range(1000):\n",
    "    sess.run(train_gd, {x_restored: X_train, y_restored: y_label})\n",
    "    if i%100 == 0:\n",
    "        temp = sess.run(loss_restored, {x_restored: X_train, y_restored: y_label})\n",
    "        print('Iteration %d, loss: %.2f' %(i, temp))"
   ]
  },
  {
   "cell_type": "markdown",
   "metadata": {},
   "source": [
    "And we can use the restored tensor to predict"
   ]
  },
  {
   "cell_type": "code",
   "execution_count": 27,
   "metadata": {
    "scrolled": false
   },
   "outputs": [
    {
     "data": {
      "text/plain": [
       "[<matplotlib.lines.Line2D at 0x1823ebf588>]"
      ]
     },
     "execution_count": 27,
     "metadata": {},
     "output_type": "execute_result"
    },
    {
     "data": {
      "image/png": "[encoded data removed]",
      "text/plain": [
       "<Figure size 432x288 with 1 Axes>"
      ]
     },
     "metadata": {},
     "output_type": "display_data"
    }
   ],
   "source": [
    "pred = sess.run(yhat_restored, {x: X_train})\n",
    "plt.plot(pred, y_label, 'o')\n",
    "plt.plot([pred.min(), pred.max()], [pred.min(), pred.max()], 'k:')"
   ]
  },
  {
   "cell_type": "code",
   "execution_count": null,
   "metadata": {},
   "outputs": [],
   "source": []
  }
 ],
 "metadata": {
  "kernelspec": {
   "display_name": "Python 3",
   "language": "python",
   "name": "python3"
  },
  "language_info": {
   "codemirror_mode": {
    "name": "ipython",
    "version": 3
   },
   "file_extension": ".py",
   "mimetype": "text/x-python",
   "name": "python",
   "nbconvert_exporter": "python",
   "pygments_lexer": "ipython3",
   "version": "3.6.4"
  }
 },
 "nbformat": 4,
 "nbformat_minor": 2
}
